{
  "cells": [
    {
      "cell_type": "code",
      "execution_count": 1,
      "metadata": {
        "id": "dSwpGifpB7W9"
      },
      "outputs": [],
      "source": [
        "import tensorflow as tf\n",
        "import numpy as np\n",
        "import matplotlib.pyplot as plt\n",
        "import pandas as pd\n",
        "import tensorflow.keras as K\n",
        "from tensorflow.keras.layers import Dense, Flatten\n"
      ]
    },
    {
      "cell_type": "code",
      "execution_count": 11,
      "metadata": {
        "id": "euKMdCXiPlRb"
      },
      "outputs": [],
      "source": [
        "((train_data, train_labels),(test_data, test_labels)) = tf.keras.datasets.mnist.load_data()"
      ]
    },
    {
      "cell_type": "code",
      "execution_count": 12,
      "metadata": {},
      "outputs": [
        {
          "name": "stdout",
          "output_type": "stream",
          "text": [
            "(10000, 28, 28) (60000,)\n"
          ]
        }
      ],
      "source": [
        "print(test_data.shape,train_labels.shape)"
      ]
    },
    {
      "cell_type": "code",
      "execution_count": 13,
      "metadata": {
        "id": "ob7uUyU4h5B_"
      },
      "outputs": [],
      "source": [
        "train_data = train_data/np.float32(255)\n",
        "train_labels = train_labels.astype(np.int32)  \n",
        "test_data = test_data/np.float32(255)\n",
        "test_labels = test_labels.astype(np.int32)\n"
      ]
    },
    {
      "cell_type": "code",
      "execution_count": 14,
      "metadata": {
        "colab": {
          "base_uri": "https://localhost:8080/"
        },
        "id": "oZFA48Y05bif",
        "outputId": "440bb1e4-b93f-4d51-f254-bb14a89829d5"
      },
      "outputs": [
        {
          "data": {
            "text/plain": [
              "array([5, 0, 4, ..., 5, 6, 8])"
            ]
          },
          "execution_count": 14,
          "metadata": {},
          "output_type": "execute_result"
        }
      ],
      "source": [
        "train_labels"
      ]
    },
    {
      "cell_type": "code",
      "execution_count": 15,
      "metadata": {
        "colab": {
          "base_uri": "https://localhost:8080/"
        },
        "id": "vfy1amXuCHBD",
        "outputId": "0d5257b6-10de-4c37-d1e9-89e360f25020"
      },
      "outputs": [
        {
          "name": "stdout",
          "output_type": "stream",
          "text": [
            "Model: \"sequential_1\"\n",
            "_________________________________________________________________\n",
            " Layer (type)                Output Shape              Param #   \n",
            "=================================================================\n",
            " flatten_1 (Flatten)         (None, 784)               0         \n",
            "                                                                 \n",
            " dense_1 (Dense)             (None, 10)                7850      \n",
            "                                                                 \n",
            "=================================================================\n",
            "Total params: 7,850\n",
            "Trainable params: 7,850\n",
            "Non-trainable params: 0\n",
            "_________________________________________________________________\n"
          ]
        }
      ],
      "source": [
        "model = K.Sequential([\n",
        "                      # Dense(64,  activation='relu'),\n",
        "                      # Dense(32,  activation='relu'),\n",
        "                      Flatten(input_shape=(28, 28)),\n",
        "                      Dense(10, activation='sigmoid')\n",
        "])\n",
        "model.summary()"
      ]
    },
    {
      "cell_type": "code",
      "execution_count": 16,
      "metadata": {
        "id": "lPF_CS2qCNjI"
      },
      "outputs": [],
      "source": [
        "model.compile(optimizer='adam',\n",
        "              loss=tf.keras.losses.SparseCategoricalCrossentropy(from_logits=True),\n",
        "              metrics=['accuracy'])\n"
      ]
    },
    {
      "cell_type": "code",
      "execution_count": 17,
      "metadata": {
        "colab": {
          "base_uri": "https://localhost:8080/"
        },
        "id": "AFVBcartVIrg",
        "outputId": "f689839c-eefe-48f1-a2a4-e699cf9bec26"
      },
      "outputs": [
        {
          "name": "stdout",
          "output_type": "stream",
          "text": [
            "Epoch 1/50\n"
          ]
        },
        {
          "name": "stderr",
          "output_type": "stream",
          "text": [
            "D:\\Python3-10\\lib\\site-packages\\tensorflow\\python\\util\\dispatch.py:1082: UserWarning: \"`sparse_categorical_crossentropy` received `from_logits=True`, but the `output` argument was produced by a sigmoid or softmax activation and thus does not represent logits. Was this intended?\"\n",
            "  return dispatch_target(*args, **kwargs)\n"
          ]
        },
        {
          "name": "stdout",
          "output_type": "stream",
          "text": [
            "1500/1500 [==============================] - 5s 3ms/step - loss: 0.5146 - accuracy: 0.8662 - val_loss: 0.3194 - val_accuracy: 0.9153\n",
            "Epoch 2/50\n",
            "1500/1500 [==============================] - 4s 3ms/step - loss: 0.3182 - accuracy: 0.9111 - val_loss: 0.2866 - val_accuracy: 0.9205\n",
            "Epoch 3/50\n",
            "1500/1500 [==============================] - 5s 3ms/step - loss: 0.2936 - accuracy: 0.9179 - val_loss: 0.2771 - val_accuracy: 0.9222\n",
            "Epoch 4/50\n",
            "1500/1500 [==============================] - 5s 3ms/step - loss: 0.2818 - accuracy: 0.9211 - val_loss: 0.2680 - val_accuracy: 0.9257\n",
            "Epoch 5/50\n",
            "1500/1500 [==============================] - 5s 3ms/step - loss: 0.2739 - accuracy: 0.9232 - val_loss: 0.2685 - val_accuracy: 0.9258\n",
            "Epoch 6/50\n",
            "1500/1500 [==============================] - 5s 3ms/step - loss: 0.2683 - accuracy: 0.9253 - val_loss: 0.2632 - val_accuracy: 0.9285\n",
            "Epoch 7/50\n",
            "1500/1500 [==============================] - 5s 4ms/step - loss: 0.2640 - accuracy: 0.9254 - val_loss: 0.2626 - val_accuracy: 0.9283\n",
            "Epoch 8/50\n",
            "1500/1500 [==============================] - 5s 4ms/step - loss: 0.2605 - accuracy: 0.9276 - val_loss: 0.2656 - val_accuracy: 0.9277\n",
            "Epoch 9/50\n",
            "1500/1500 [==============================] - 5s 3ms/step - loss: 0.2574 - accuracy: 0.9280 - val_loss: 0.2613 - val_accuracy: 0.9282\n",
            "Epoch 10/50\n",
            "1500/1500 [==============================] - 4s 3ms/step - loss: 0.2548 - accuracy: 0.9286 - val_loss: 0.2633 - val_accuracy: 0.9281\n",
            "Epoch 11/50\n",
            "1500/1500 [==============================] - 4s 3ms/step - loss: 0.2531 - accuracy: 0.9287 - val_loss: 0.2605 - val_accuracy: 0.9308\n",
            "Epoch 12/50\n",
            "1500/1500 [==============================] - 4s 3ms/step - loss: 0.2514 - accuracy: 0.9294 - val_loss: 0.2619 - val_accuracy: 0.9287\n",
            "Epoch 13/50\n",
            "1500/1500 [==============================] - 4s 3ms/step - loss: 0.2497 - accuracy: 0.9305 - val_loss: 0.2640 - val_accuracy: 0.9277\n",
            "Epoch 14/50\n",
            "1500/1500 [==============================] - 5s 3ms/step - loss: 0.2481 - accuracy: 0.9311 - val_loss: 0.2647 - val_accuracy: 0.9302\n",
            "Epoch 15/50\n",
            "1500/1500 [==============================] - 5s 3ms/step - loss: 0.2471 - accuracy: 0.9305 - val_loss: 0.2602 - val_accuracy: 0.9314\n",
            "Epoch 16/50\n",
            "1500/1500 [==============================] - 5s 3ms/step - loss: 0.2455 - accuracy: 0.9318 - val_loss: 0.2621 - val_accuracy: 0.9295\n",
            "Epoch 17/50\n",
            "1500/1500 [==============================] - 5s 3ms/step - loss: 0.2445 - accuracy: 0.9320 - val_loss: 0.2648 - val_accuracy: 0.9284\n",
            "Epoch 18/50\n",
            "1500/1500 [==============================] - 5s 3ms/step - loss: 0.2431 - accuracy: 0.9321 - val_loss: 0.2619 - val_accuracy: 0.9308\n",
            "Epoch 19/50\n",
            "1500/1500 [==============================] - 4s 3ms/step - loss: 0.2420 - accuracy: 0.9327 - val_loss: 0.2626 - val_accuracy: 0.9297\n",
            "Epoch 20/50\n",
            "1500/1500 [==============================] - 4s 3ms/step - loss: 0.2412 - accuracy: 0.9326 - val_loss: 0.2629 - val_accuracy: 0.9307\n",
            "Epoch 21/50\n",
            "1500/1500 [==============================] - 4s 3ms/step - loss: 0.2407 - accuracy: 0.9331 - val_loss: 0.2615 - val_accuracy: 0.9314\n",
            "Epoch 22/50\n",
            "1500/1500 [==============================] - 5s 3ms/step - loss: 0.2400 - accuracy: 0.9337 - val_loss: 0.2615 - val_accuracy: 0.9312\n",
            "Epoch 23/50\n",
            "1500/1500 [==============================] - 5s 3ms/step - loss: 0.2391 - accuracy: 0.9336 - val_loss: 0.2671 - val_accuracy: 0.9290\n",
            "Epoch 24/50\n",
            "1500/1500 [==============================] - 4s 3ms/step - loss: 0.2381 - accuracy: 0.9340 - val_loss: 0.2653 - val_accuracy: 0.9302\n",
            "Epoch 25/50\n",
            "1500/1500 [==============================] - 4s 3ms/step - loss: 0.2376 - accuracy: 0.9345 - val_loss: 0.2621 - val_accuracy: 0.9313\n",
            "Epoch 26/50\n",
            "1500/1500 [==============================] - 4s 3ms/step - loss: 0.2371 - accuracy: 0.9341 - val_loss: 0.2652 - val_accuracy: 0.9288\n",
            "Epoch 27/50\n",
            "1500/1500 [==============================] - 5s 3ms/step - loss: 0.2369 - accuracy: 0.9346 - val_loss: 0.2661 - val_accuracy: 0.9291\n",
            "Epoch 28/50\n",
            "1500/1500 [==============================] - 5s 3ms/step - loss: 0.2359 - accuracy: 0.9339 - val_loss: 0.2671 - val_accuracy: 0.9288\n",
            "Epoch 29/50\n",
            "1500/1500 [==============================] - 4s 3ms/step - loss: 0.2351 - accuracy: 0.9348 - val_loss: 0.2707 - val_accuracy: 0.9283\n",
            "Epoch 30/50\n",
            "1500/1500 [==============================] - 4s 3ms/step - loss: 0.2350 - accuracy: 0.9347 - val_loss: 0.2659 - val_accuracy: 0.9308\n",
            "Epoch 31/50\n",
            "1500/1500 [==============================] - 4s 3ms/step - loss: 0.2342 - accuracy: 0.9353 - val_loss: 0.2669 - val_accuracy: 0.9288\n",
            "Epoch 32/50\n",
            "1500/1500 [==============================] - 4s 3ms/step - loss: 0.2336 - accuracy: 0.9342 - val_loss: 0.2689 - val_accuracy: 0.9279\n",
            "Epoch 33/50\n",
            "1500/1500 [==============================] - 4s 3ms/step - loss: 0.2335 - accuracy: 0.9348 - val_loss: 0.2679 - val_accuracy: 0.9298\n",
            "Epoch 34/50\n",
            "1500/1500 [==============================] - 4s 3ms/step - loss: 0.2323 - accuracy: 0.9344 - val_loss: 0.2675 - val_accuracy: 0.9309\n",
            "Epoch 35/50\n",
            "1500/1500 [==============================] - 4s 3ms/step - loss: 0.2325 - accuracy: 0.9349 - val_loss: 0.2680 - val_accuracy: 0.9305\n",
            "Epoch 36/50\n",
            "1500/1500 [==============================] - 4s 3ms/step - loss: 0.2317 - accuracy: 0.9355 - val_loss: 0.2675 - val_accuracy: 0.9293\n",
            "Epoch 37/50\n",
            "1500/1500 [==============================] - 4s 3ms/step - loss: 0.2317 - accuracy: 0.9358 - val_loss: 0.2692 - val_accuracy: 0.9295\n",
            "Epoch 38/50\n",
            "1500/1500 [==============================] - 4s 3ms/step - loss: 0.2310 - accuracy: 0.9362 - val_loss: 0.2679 - val_accuracy: 0.9302\n",
            "Epoch 39/50\n",
            "1500/1500 [==============================] - 5s 3ms/step - loss: 0.2304 - accuracy: 0.9360 - val_loss: 0.2724 - val_accuracy: 0.9287\n",
            "Epoch 40/50\n",
            "1500/1500 [==============================] - 5s 3ms/step - loss: 0.2305 - accuracy: 0.9362 - val_loss: 0.2716 - val_accuracy: 0.9292\n",
            "Epoch 41/50\n",
            "1500/1500 [==============================] - 4s 3ms/step - loss: 0.2302 - accuracy: 0.9361 - val_loss: 0.2699 - val_accuracy: 0.9298\n",
            "Epoch 42/50\n",
            "1500/1500 [==============================] - 4s 3ms/step - loss: 0.2296 - accuracy: 0.9363 - val_loss: 0.2734 - val_accuracy: 0.9285\n",
            "Epoch 43/50\n",
            "1500/1500 [==============================] - 3s 2ms/step - loss: 0.2294 - accuracy: 0.9360 - val_loss: 0.2707 - val_accuracy: 0.9305\n",
            "Epoch 44/50\n",
            "1500/1500 [==============================] - 4s 3ms/step - loss: 0.2291 - accuracy: 0.9362 - val_loss: 0.2770 - val_accuracy: 0.9275\n",
            "Epoch 45/50\n",
            "1500/1500 [==============================] - 4s 2ms/step - loss: 0.2284 - accuracy: 0.9358 - val_loss: 0.2720 - val_accuracy: 0.9297\n",
            "Epoch 46/50\n",
            "1500/1500 [==============================] - 4s 2ms/step - loss: 0.2287 - accuracy: 0.9367 - val_loss: 0.2719 - val_accuracy: 0.9291\n",
            "Epoch 47/50\n",
            "1500/1500 [==============================] - 3s 2ms/step - loss: 0.2280 - accuracy: 0.9365 - val_loss: 0.2728 - val_accuracy: 0.9284\n",
            "Epoch 48/50\n",
            "1500/1500 [==============================] - 3s 2ms/step - loss: 0.2283 - accuracy: 0.9367 - val_loss: 0.2750 - val_accuracy: 0.9274\n",
            "Epoch 49/50\n",
            "1500/1500 [==============================] - 3s 2ms/step - loss: 0.2273 - accuracy: 0.9370 - val_loss: 0.2739 - val_accuracy: 0.9296\n",
            "Epoch 50/50\n",
            "1500/1500 [==============================] - 3s 2ms/step - loss: 0.2270 - accuracy: 0.9361 - val_loss: 0.2818 - val_accuracy: 0.9268\n"
          ]
        }
      ],
      "source": [
        "history = model.fit(x=train_data,y=train_labels, epochs=50, verbose=1, validation_split=0.2)"
      ]
    },
    {
      "cell_type": "code",
      "execution_count": 18,
      "metadata": {
        "colab": {
          "base_uri": "https://localhost:8080/",
          "height": 279
        },
        "id": "2CNB_RPafiEZ",
        "outputId": "8e253635-074e-479c-effd-592f269206de"
      },
      "outputs": [
        {
          "data": {
            "image/png": "[encoded data removed]",
            "text/plain": [
              "<Figure size 640x480 with 1 Axes>"
            ]
          },
          "metadata": {},
          "output_type": "display_data"
        }
      ],
      "source": [
        "plt.plot(history.history['loss'], label='loss')\n",
        "plt.plot(history.history['val_loss'], label='val_loss')\n",
        "plt.xlabel('Epoch')\n",
        "plt.ylabel('Loss')\n",
        "plt.legend()\n",
        "plt.grid(True)"
      ]
    },
    {
      "cell_type": "code",
      "execution_count": 19,
      "metadata": {
        "id": "Gl91RPhdCaXI"
      },
      "outputs": [
        {
          "name": "stdout",
          "output_type": "stream",
          "text": [
            "313/313 [==============================] - 1s 2ms/step\n"
          ]
        }
      ],
      "source": [
        "predictions = model.predict(test_data)"
      ]
    },
    {
      "cell_type": "code",
      "execution_count": 22,
      "metadata": {
        "id": "DvYmmrpIy6Y1"
      },
      "outputs": [],
      "source": [
        "def plot_image(i, predictions_array, true_label, img):\n",
        "  true_label, img = true_label[i], img[i]\n",
        "  plt.grid(False)\n",
        "  plt.xticks([])\n",
        "  plt.yticks([])\n",
        "\n",
        "  plt.imshow(img, cmap=plt.cm.binary)\n",
        "\n",
        "  predicted_label = np.argmax(predictions_array)\n",
        "  if predicted_label == true_label:\n",
        "    color = 'blue'\n",
        "  else:\n",
        "    color = 'red'\n",
        "\n",
        "  plt.xlabel(\"Pred {} Conf: {:2.0f}% True ({})\".format(predicted_label,\n",
        "                                100*np.max(predictions_array),\n",
        "                                true_label),\n",
        "                                color=color)\n",
        "\n",
        "def plot_value_array(i, predictions_array, true_label):\n",
        "  true_label = true_label[i]\n",
        "  plt.grid(False)\n",
        "  plt.xticks(range(10))\n",
        "  plt.yticks([])\n",
        "  thisplot = plt.bar(range(10), predictions_array, color=\"#777777\")\n",
        "  plt.ylim([0, 1])\n",
        "  predicted_label = np.argmax(predictions_array)\n",
        "\n",
        "  thisplot[predicted_label].set_color('red')\n",
        "  thisplot[true_label].set_color('blue')"
      ]
    },
    {
      "cell_type": "code",
      "execution_count": 24,
      "metadata": {
        "colab": {
          "base_uri": "https://localhost:8080/",
          "height": 320
        },
        "id": "HV5jw-5HwSmO",
        "outputId": "aaf10577-82bd-41b9-920b-eacad2b139b6"
      },
      "outputs": [
        {
          "data": {
            "image/png": "[encoded data removed]",
            "text/plain": [
              "<Figure size 1000x500 with 2 Axes>"
            ]
          },
          "metadata": {},
          "output_type": "display_data"
        }
      ],
      "source": [
        "i = 32\n",
        "plt.figure(figsize=(10,5))\n",
        "plt.subplot(1,2,1)\n",
        "plot_image(i, predictions[i], test_labels, test_data)\n",
        "plt.subplot(1,2,2)\n",
        "plot_value_array(i, predictions[i],  test_labels)\n",
        "plt.show()"
      ]
    },
    {
      "cell_type": "code",
      "execution_count": 25,
      "metadata": {
        "colab": {
          "base_uri": "https://localhost:8080/"
        },
        "id": "PpOZuTf4ObLY",
        "outputId": "315ed7e6-66fd-4ab4-9120-1bb4fb913670"
      },
      "outputs": [
        {
          "name": "stdout",
          "output_type": "stream",
          "text": [
            "Model: \"sequential_2\"\n",
            "_________________________________________________________________\n",
            " Layer (type)                Output Shape              Param #   \n",
            "=================================================================\n",
            " flatten_2 (Flatten)         (None, 784)               0         \n",
            "                                                                 \n",
            " dense_2 (Dense)             (None, 128)               100480    \n",
            "                                                                 \n",
            " dense_3 (Dense)             (None, 10)                1290      \n",
            "                                                                 \n",
            "=================================================================\n",
            "Total params: 101,770\n",
            "Trainable params: 101,770\n",
            "Non-trainable params: 0\n",
            "_________________________________________________________________\n"
          ]
        }
      ],
      "source": [
        "better_model = K.Sequential([\n",
        "                      Flatten(input_shape=(28, 28)),\n",
        "                      Dense(128,  activation='relu'),\n",
        "                      #Dense(64,  activation='relu'),\n",
        "                      Dense(10, activation='softmax')\n",
        "])\n",
        "better_model.summary()"
      ]
    },
    {
      "cell_type": "code",
      "execution_count": 26,
      "metadata": {
        "id": "Nq8VNhalOo48"
      },
      "outputs": [],
      "source": [
        "better_model.compile(optimizer='adam',\n",
        "              loss=tf.keras.losses.SparseCategoricalCrossentropy(from_logits=True),\n",
        "              metrics=['accuracy'])"
      ]
    },
    {
      "cell_type": "code",
      "execution_count": 27,
      "metadata": {
        "colab": {
          "base_uri": "https://localhost:8080/"
        },
        "id": "IUaHtrwxOu-Q",
        "outputId": "2ca97161-2fda-4a83-c4d5-6b5617907a5d"
      },
      "outputs": [
        {
          "name": "stdout",
          "output_type": "stream",
          "text": [
            "Epoch 1/10\n",
            "1500/1500 [==============================] - 6s 4ms/step - loss: 0.2909 - accuracy: 0.9169 - val_loss: 0.1642 - val_accuracy: 0.9519\n",
            "Epoch 2/10\n",
            "1500/1500 [==============================] - 5s 4ms/step - loss: 0.1326 - accuracy: 0.9610 - val_loss: 0.1192 - val_accuracy: 0.9657\n",
            "Epoch 3/10\n",
            "1500/1500 [==============================] - 6s 4ms/step - loss: 0.0909 - accuracy: 0.9737 - val_loss: 0.1007 - val_accuracy: 0.9697\n",
            "Epoch 4/10\n",
            "1500/1500 [==============================] - 6s 4ms/step - loss: 0.0678 - accuracy: 0.9798 - val_loss: 0.1023 - val_accuracy: 0.9707\n",
            "Epoch 5/10\n",
            "1500/1500 [==============================] - 6s 4ms/step - loss: 0.0515 - accuracy: 0.9842 - val_loss: 0.0888 - val_accuracy: 0.9720\n",
            "Epoch 6/10\n",
            "1500/1500 [==============================] - 5s 3ms/step - loss: 0.0409 - accuracy: 0.9876 - val_loss: 0.0930 - val_accuracy: 0.9727\n",
            "Epoch 7/10\n",
            "1500/1500 [==============================] - 5s 3ms/step - loss: 0.0308 - accuracy: 0.9909 - val_loss: 0.0889 - val_accuracy: 0.9748\n",
            "Epoch 8/10\n",
            "1500/1500 [==============================] - 5s 3ms/step - loss: 0.0250 - accuracy: 0.9922 - val_loss: 0.0940 - val_accuracy: 0.9747\n",
            "Epoch 9/10\n",
            "1500/1500 [==============================] - 5s 3ms/step - loss: 0.0209 - accuracy: 0.9937 - val_loss: 0.0905 - val_accuracy: 0.9760\n",
            "Epoch 10/10\n",
            "1500/1500 [==============================] - 5s 3ms/step - loss: 0.0161 - accuracy: 0.9953 - val_loss: 0.0943 - val_accuracy: 0.9747\n"
          ]
        }
      ],
      "source": [
        "history = better_model.fit(x=train_data,y=train_labels, epochs=10, verbose=1, validation_split=0.2)"
      ]
    },
    {
      "cell_type": "code",
      "execution_count": 28,
      "metadata": {
        "colab": {
          "base_uri": "https://localhost:8080/",
          "height": 283
        },
        "id": "DlynNznqO1Jp",
        "outputId": "cae41c9a-c793-4a39-f2c0-16b61e306894"
      },
      "outputs": [
        {
          "data": {
            "image/png": "[encoded data removed]",
            "text/plain": [
              "<Figure size 640x480 with 1 Axes>"
            ]
          },
          "metadata": {},
          "output_type": "display_data"
        }
      ],
      "source": [
        "plt.plot(history.history['loss'], label='loss')\n",
        "plt.plot(history.history['val_loss'], label='val_loss')\n",
        "plt.xlabel('Epoch')\n",
        "plt.ylabel('Loss')\n",
        "plt.legend()\n",
        "plt.grid(True)"
      ]
    },
    {
      "cell_type": "code",
      "execution_count": 29,
      "metadata": {
        "colab": {
          "base_uri": "https://localhost:8080/",
          "height": 320
        },
        "id": "iGlvW03oPAQY",
        "outputId": "ee3df42e-9964-47fa-d73e-c2aa77fab28a"
      },
      "outputs": [
        {
          "name": "stdout",
          "output_type": "stream",
          "text": [
            "313/313 [==============================] - 1s 3ms/step\n"
          ]
        },
        {
          "data": {
            "image/png": "[encoded data removed]",
            "text/plain": [
              "<Figure size 1000x500 with 2 Axes>"
            ]
          },
          "metadata": {},
          "output_type": "display_data"
        }
      ],
      "source": [
        "predictions = better_model.predict(test_data)\n",
        "i = 0\n",
        "plt.figure(figsize=(10,5))\n",
        "plt.subplot(1,2,1)\n",
        "plot_image(i, predictions[i], test_labels, test_data)\n",
        "plt.subplot(1,2,2)\n",
        "plot_value_array(i, predictions[i],  test_labels)\n",
        "plt.show()"
      ]
    },
    {
      "cell_type": "code",
      "execution_count": null,
      "metadata": {
        "id": "wVvQPrFwWfrs"
      },
      "outputs": [],
      "source": []
    }
  ],
  "metadata": {
    "accelerator": "GPU",
    "colab": {
      "collapsed_sections": [],
      "name": "logistic_regression_using_keras_API.ipynb",
      "provenance": []
    },
    "kernelspec": {
      "display_name": "Python 3",
      "name": "python3"
    },
    "language_info": {
      "codemirror_mode": {
        "name": "ipython",
        "version": 3
      },
      "file_extension": ".py",
      "mimetype": "text/x-python",
      "name": "python",
      "nbconvert_exporter": "python",
      "pygments_lexer": "ipython3",
      "version": "3.10.6"
    }
  },
  "nbformat": 4,
  "nbformat_minor": 0
}
